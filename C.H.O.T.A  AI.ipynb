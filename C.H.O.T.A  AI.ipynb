{
 "cells": [
  {
   "cell_type": "code",
   "execution_count": 1,
   "id": "862e0229",
   "metadata": {},
   "outputs": [],
   "source": [
    "import speech_recognition as sr\n",
    "import pyttsx3\n"
   ]
  },
  {
   "cell_type": "code",
   "execution_count": 2,
   "id": "45341a5a",
   "metadata": {},
   "outputs": [],
   "source": [
    "def listen():\n",
    "    r = sr.Recognizer()\n",
    "    with sr.Microphone() as source:\n",
    "        print(\"CHOTA is listening...\")\n",
    "        audio = r.listen(source)\n",
    "        try:\n",
    "            text = r.recognize_google(audio)\n",
    "            print(\"You said: \" + text)\n",
    "            return text\n",
    "        except sr.UnknownValueError:\n",
    "            print(\"CHOTA could not understand the audio\")\n",
    "            return \"I could not understand what was said.\"\n",
    "        except sr.RequestError:\n",
    "            print(\"Could not request results; check your internet connection\")\n",
    "            return \"Failed to connect.\"\n"
   ]
  },
  {
   "cell_type": "code",
   "execution_count": 3,
   "id": "2704cceb",
   "metadata": {},
   "outputs": [],
   "source": [
    "def speak(text):\n",
    "    engine = pyttsx3.init()\n",
    "    response_text = f\"CHOTA says: {text}\"\n",
    "    engine.say(response_text)\n",
    "    engine.runAndWait()\n"
   ]
  },
  {
   "cell_type": "code",
   "execution_count": 20,
   "id": "aab05388",
   "metadata": {},
   "outputs": [],
   "source": [
    "import re\n",
    "from datetime import datetime, date\n",
    "\n",
    "def process_command(command):\n",
    "    command = command.lower()\n",
    "\n",
    "    # Normalize name variations\n",
    "    command = re.sub(r'\\b(chhota|chotay)\\b', 'chota', command)\n",
    "\n",
    "    # Mapping intents to keywords and responses\n",
    "    mapping = {\n",
    "        \"greetings\": {\n",
    "            \"keywords\": [r'\\bhello\\b', r'\\bhi\\b', r'\\bhey\\b', r'\\bchota\\b', r'\\bwhatsup\\b', r'\\bhowdy\\b'],\n",
    "            \"response\": \"Hello, I am CHOTA, your assistant. I'm doing good! What can I help you with today?\"\n",
    "        },\n",
    "        \"inquiries\": {\n",
    "            \"keywords\": [r'what can you do', r'help', r'capabilities', r'functions'],\n",
    "            \"response\": \"I can provide the current time and date, answer basic questions about myself, and respond to greetings. How can I assist you further?\"\n",
    "        },\n",
    "        \"wellbeing\": {\n",
    "            \"keywords\": [r'how are you', r'how\\'s life', r'how is everything'],\n",
    "            \"response\": \"I am fine, thank you! What can I do for you today?\"\n",
    "        },\n",
    "        \"identity\": {\n",
    "            \"keywords\": [r'what is your name', r'who are you'],\n",
    "            \"response\": \"My name is CHOTA.\"\n",
    "        },\n",
    "        \"time\": {\n",
    "            \"keywords\": [r'\\btime\\b'],\n",
    "            \"response\": lambda: f\"The current time is {datetime.now().strftime('%H:%M')}.\"\n",
    "        },\n",
    "        \"date\": {\n",
    "            \"keywords\": [r'\\bdate\\b', r'what day is it'],\n",
    "            \"response\": lambda: f\"Today's date is {date.today().strftime('%B %d, %Y')}.\"\n",
    "        }\n",
    "    }\n",
    "\n",
    "    # Iterate through each intent to find a match in the command\n",
    "    for intent, details in mapping.items():\n",
    "        for keyword in details['keywords']:\n",
    "            if re.search(keyword, command):\n",
    "                # Check if the intent requires a dynamic response\n",
    "                if callable(details['response']):  # These intents need real-time data\n",
    "                    return details['response']()  # Call the function to get real-time response\n",
    "                return details['response']\n",
    "\n",
    "    return \"I don't understand that command. Can you try asking something else?\"\n"
   ]
  },
  {
   "cell_type": "code",
   "execution_count": 23,
   "id": "a8ba6873",
   "metadata": {},
   "outputs": [
    {
     "name": "stdout",
     "output_type": "stream",
     "text": [
      "CHOTA is listening...\n",
      "CHOTA could not understand the audio\n",
      "Debug: Heard command: 'I could not understand what was said.'\n",
      "Debug: Responding with: 'I don't understand that command. Can you try asking something else?'\n",
      "CHOTA is listening...\n",
      "You said: what's the weather\n",
      "Debug: Heard command: 'what's the weather'\n",
      "Debug: Responding with: 'I don't understand that command. Can you try asking something else?'\n",
      "CHOTA has exited after two interactions.\n"
     ]
    }
   ],
   "source": [
    "def main():\n",
    "    speak(\"Hello, I am CHOTA, your personal assistant.\")\n",
    "    counter = 0\n",
    "    while counter < 2:\n",
    "        command = listen()\n",
    "        print(f\"Debug: Heard command: '{command}'\")  # Debug print\n",
    "        if command is None:\n",
    "            speak(\"Please repeat that.\")\n",
    "            continue\n",
    "        if command.lower() == \"stop\":\n",
    "            speak(\"Goodbye!\")\n",
    "            print(\"Debug: Stop command received\")  # Debug print\n",
    "            break\n",
    "        response = process_command(command)\n",
    "        print(f\"Debug: Responding with: '{response}'\")  # Debug print\n",
    "        speak(response)\n",
    "        counter += 1\n",
    "    \n",
    "    if counter == 2:\n",
    "        speak(\"I have assisted you twice, goodbye!\")\n",
    "        print(\"CHOTA has exited after two interactions.\")\n",
    "\n",
    "main()"
   ]
  },
  {
   "cell_type": "code",
   "execution_count": null,
   "id": "1db16187",
   "metadata": {},
   "outputs": [],
   "source": []
  },
  {
   "cell_type": "code",
   "execution_count": null,
   "id": "398f46a3",
   "metadata": {},
   "outputs": [],
   "source": []
  }
 ],
 "metadata": {
  "kernelspec": {
   "display_name": "Python 3 (ipykernel)",
   "language": "python",
   "name": "python3"
  },
  "language_info": {
   "codemirror_mode": {
    "name": "ipython",
    "version": 3
   },
   "file_extension": ".py",
   "mimetype": "text/x-python",
   "name": "python",
   "nbconvert_exporter": "python",
   "pygments_lexer": "ipython3",
   "version": "3.11.5"
  }
 },
 "nbformat": 4,
 "nbformat_minor": 5
}
